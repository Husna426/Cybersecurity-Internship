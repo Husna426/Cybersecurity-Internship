{
 "cells": [
  {
   "cell_type": "code",
   "execution_count": 1,
   "id": "db9defc9-1a49-49f2-9f05-de465e749f02",
   "metadata": {},
   "outputs": [
    {
     "name": "stdin",
     "output_type": "stream",
     "text": [
      "Enter your password:  Baba@lawo\n"
     ]
    },
    {
     "name": "stdout",
     "output_type": "stream",
     "text": [
      "Password Strength: Very Strong\n",
      "Suggestions:\n",
      "- Password should include at least one number.\n"
     ]
    }
   ],
   "source": [
    "import re\n",
    "\n",
    "def assess_password_strength(password):\n",
    "    \"\"\"\n",
    "    Assess the strength of a password and provide feedback.\n",
    "\n",
    "    Args:\n",
    "        password (str): The password to evaluate.\n",
    "\n",
    "    Returns:\n",
    "        dict: A dictionary containing the password's strength and feedback.\n",
    "    \"\"\"\n",
    "    feedback = []\n",
    "    strength = 0\n",
    "\n",
    "    # Criteria for strength\n",
    "    if len(password) >= 8:\n",
    "        strength += 1\n",
    "    else:\n",
    "        feedback.append(\"Password should be at least 8 characters long.\")\n",
    "\n",
    "    if re.search(r'[A-Z]', password):\n",
    "        strength += 1\n",
    "    else:\n",
    "        feedback.append(\"Password should include at least one uppercase letter.\")\n",
    "\n",
    "    if re.search(r'[a-z]', password):\n",
    "        strength += 1\n",
    "    else:\n",
    "        feedback.append(\"Password should include at least one lowercase letter.\")\n",
    "\n",
    "    if re.search(r'\\d', password):\n",
    "        strength += 1\n",
    "    else:\n",
    "        feedback.append(\"Password should include at least one number.\")\n",
    "\n",
    "    if re.search(r'[!@#$%^&*(),.?\":{}|<>]', password):\n",
    "        strength += 1\n",
    "    else:\n",
    "        feedback.append(\"Password should include at least one special character (e.g., !@#$%^&*()).\")\n",
    "\n",
    "    # Determine strength level\n",
    "    strength_levels = {\n",
    "        0: \"Very Weak\",\n",
    "        1: \"Weak\",\n",
    "        2: \"Moderate\",\n",
    "        3: \"Strong\",\n",
    "        4: \"Very Strong\",\n",
    "        5: \"Excellent\"\n",
    "    }\n",
    "\n",
    "    strength_description = strength_levels[strength]\n",
    "\n",
    "    return {\n",
    "        \"strength\": strength_description,\n",
    "        \"feedback\": feedback\n",
    "    }\n",
    "\n",
    "# Example usage\n",
    "if __name__ == \"__main__\":\n",
    "    user_password = input(\"Enter your password: \")\n",
    "    result = assess_password_strength(user_password)\n",
    "    print(f\"Password Strength: {result['strength']}\")\n",
    "    if result['feedback']:\n",
    "        print(\"Suggestions:\")\n",
    "        for suggestion in result['feedback']:\n",
    "            print(f\"- {suggestion}\")\n"
   ]
  },
  {
   "cell_type": "code",
   "execution_count": null,
   "id": "ebe9e096-b8c4-4478-a2d0-cbbd52913f51",
   "metadata": {},
   "outputs": [],
   "source": []
  }
 ],
 "metadata": {
  "kernelspec": {
   "display_name": "Python [conda env:base] *",
   "language": "python",
   "name": "conda-base-py"
  },
  "language_info": {
   "codemirror_mode": {
    "name": "ipython",
    "version": 3
   },
   "file_extension": ".py",
   "mimetype": "text/x-python",
   "name": "python",
   "nbconvert_exporter": "python",
   "pygments_lexer": "ipython3",
   "version": "3.12.7"
  }
 },
 "nbformat": 4,
 "nbformat_minor": 5
}
