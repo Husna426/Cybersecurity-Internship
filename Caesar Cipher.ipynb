{
 "cells": [
  {
   "cell_type": "code",
   "execution_count": null,
   "id": "fd44a56c-0bc5-4107-bda7-366d77c94c90",
   "metadata": {},
   "outputs": [
    {
     "name": "stdout",
     "output_type": "stream",
     "text": [
      "Caesar Cipher Program\n",
      "\n",
      "Options:\n",
      "1. Encrypt a message\n",
      "2. Decrypt a message\n",
      "3. Exit\n"
     ]
    },
    {
     "name": "stdin",
     "output_type": "stream",
     "text": [
      "Enter your choice (1/2/3):  1\n",
      "Enter the message to encrypt:  dont\n",
      "Enter the shift value:  3\n"
     ]
    },
    {
     "name": "stdout",
     "output_type": "stream",
     "text": [
      "Encrypted message: grqw\n",
      "\n",
      "Options:\n",
      "1. Encrypt a message\n",
      "2. Decrypt a message\n",
      "3. Exit\n"
     ]
    }
   ],
   "source": [
    "def caesar_cipher_encrypt(message, shift):\n",
    "    encrypted_message = \"\"\n",
    "\n",
    "    for char in message:\n",
    "        if char.isalpha():\n",
    "            shift_base = ord('A') if char.isupper() else ord('a')\n",
    "            shifted_char = chr((ord(char) - shift_base + shift) % 26 + shift_base)\n",
    "            encrypted_message += shifted_char\n",
    "        else:\n",
    "            encrypted_message += char\n",
    "\n",
    "    return encrypted_message\n",
    "\n",
    "def caesar_cipher_decrypt(message, shift):\n",
    "    return caesar_cipher_encrypt(message, -shift)\n",
    "\n",
    "def main():\n",
    "    print(\"Caesar Cipher Program\")\n",
    "    while True:\n",
    "        print(\"\\nOptions:\")\n",
    "        print(\"1. Encrypt a message\")\n",
    "        print(\"2. Decrypt a message\")\n",
    "        print(\"3. Exit\")\n",
    "\n",
    "        choice = input(\"Enter your choice (1/2/3): \")\n",
    "\n",
    "        if choice == '1':\n",
    "            message = input(\"Enter the message to encrypt: \")\n",
    "            shift = int(input(\"Enter the shift value: \"))\n",
    "            encrypted_message = caesar_cipher_encrypt(message, shift)\n",
    "            print(f\"Encrypted message: {encrypted_message}\")\n",
    "\n",
    "        elif choice == '2':\n",
    "            message = input(\"Enter the message to decrypt: \")\n",
    "            shift = int(input(\"Enter the shift value: \"))\n",
    "            decrypted_message = caesar_cipher_decrypt(message, shift)\n",
    "            print(f\"Decrypted message: {decrypted_message}\")\n",
    "\n",
    "        elif choice == '3':\n",
    "            print(\"Exiting program. Goodbye!\")\n",
    "            break\n",
    "\n",
    "        else:\n",
    "            print(\"Invalid choice. Please try again.\")\n",
    "\n",
    "if __name__ == \"__main__\":\n",
    "    main()\n"
   ]
  },
  {
   "cell_type": "code",
   "execution_count": null,
   "id": "4aa25964-2f48-405c-8ae8-0a8971ab3280",
   "metadata": {},
   "outputs": [],
   "source": []
  },
  {
   "cell_type": "code",
   "execution_count": null,
   "id": "1616e851-6a96-4d37-9d8e-bfe92ece0218",
   "metadata": {},
   "outputs": [],
   "source": []
  }
 ],
 "metadata": {
  "kernelspec": {
   "display_name": "anaconda-panel-2023.05-py310",
   "language": "python",
   "name": "conda-env-anaconda-panel-2023.05-py310-py"
  },
  "language_info": {
   "codemirror_mode": {
    "name": "ipython",
    "version": 3
   },
   "file_extension": ".py",
   "mimetype": "text/x-python",
   "name": "python",
   "nbconvert_exporter": "python",
   "pygments_lexer": "ipython3",
   "version": "3.11.5"
  }
 },
 "nbformat": 4,
 "nbformat_minor": 5
}
