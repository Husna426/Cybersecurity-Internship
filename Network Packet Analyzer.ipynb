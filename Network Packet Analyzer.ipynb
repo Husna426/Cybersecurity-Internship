{
 "cells": [
  {
   "cell_type": "code",
   "execution_count": 5,
   "id": "fe0698f0-7c89-4a55-96df-d6cdc8a7bb0b",
   "metadata": {},
   "outputs": [
    {
     "data": {
      "text/plain": [
       "<coroutine object start_sniffing at 0x00000279DB7D3510>"
      ]
     },
     "execution_count": 5,
     "metadata": {},
     "output_type": "execute_result"
    }
   ],
   "source": [
    "import logging\n",
    "import pyshark\n",
    "import nest_asyncio\n",
    "\n",
    "# Apply nest_asyncio to allow multiple event loops in the same process\n",
    "nest_asyncio.apply()\n",
    "\n",
    "# Set up logging to display packet details\n",
    "logging.basicConfig(level=logging.INFO)\n",
    "\n",
    "def packet_callback(packet):\n",
    "    \"\"\"This function will be called for each captured packet.\"\"\"\n",
    "    logging.info(f\"Packet: {packet.summary()}\")\n",
    "\n",
    "# Function to start sniffing packets\n",
    "async def start_sniffing():\n",
    "    logging.info(\"Starting packet capture... Press 'Stop' to interrupt the capture.\")\n",
    "    \n",
    "    # Use Pyshark to capture packets on a specific interface (e.g., \"Wi-Fi\")\n",
    "    capture = pyshark.LiveCapture(interface='Wi-Fi', bpf_filter='ip')  # Only capture IP packets\n",
    "    await capture.apply_on_packets(packet_callback, timeout=50)\n",
    "\n",
    "# Run the sniffing function using asyncio in Spyder\n",
    "start_sniffing()\n"
   ]
  },
  {
   "cell_type": "code",
   "execution_count": null,
   "id": "c8c9cfcc-3d9e-4abe-a3eb-2be084f74bdc",
   "metadata": {},
   "outputs": [],
   "source": []
  }
 ],
 "metadata": {
  "kernelspec": {
   "display_name": "Python [conda env:base] *",
   "language": "python",
   "name": "conda-base-py"
  },
  "language_info": {
   "codemirror_mode": {
    "name": "ipython",
    "version": 3
   },
   "file_extension": ".py",
   "mimetype": "text/x-python",
   "name": "python",
   "nbconvert_exporter": "python",
   "pygments_lexer": "ipython3",
   "version": "3.12.7"
  }
 },
 "nbformat": 4,
 "nbformat_minor": 5
}
