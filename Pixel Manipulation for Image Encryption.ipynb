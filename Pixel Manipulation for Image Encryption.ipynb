{
 "cells": [
  {
   "cell_type": "code",
   "execution_count": 7,
   "id": "352dd554-add5-4bd5-af5e-8f8ac97d7d1b",
   "metadata": {},
   "outputs": [
    {
     "name": "stdout",
     "output_type": "stream",
     "text": [
      "Resized image saved as resized_image.jpg\n"
     ]
    }
   ],
   "source": [
    "from PIL import Image\n",
    "\n",
    "def resize_image(image_path, output_path, size=(100, 100)):\n",
    "    img = Image.open(image_path)\n",
    "    img = img.resize(size)\n",
    "    img.save(output_path)\n",
    "    print(f\"Resized image saved as {output_path}\")\n",
    "\n",
    "# Resize your image\n",
    "resize_image(\"pexels-leah-newhouse-50725-185933.jpg\", \"resized_image.jpg\", size=(100, 100))"
   ]
  },
  {
   "cell_type": "code",
   "execution_count": 9,
   "id": "112fa1cd-a3f2-41b8-9434-ff7f58529398",
   "metadata": {},
   "outputs": [
    {
     "name": "stdout",
     "output_type": "stream",
     "text": [
      "Image encrypted and saved as encrypted_resized_image.jpg\n",
      "Image decrypted and saved as decrypted_resized_image.jpg\n"
     ]
    }
   ],
   "source": [
    "encrypt_image(\"resized_image.jpg\", \"encrypted_resized_image.jpg\")\n",
    "decrypt_image(\"encrypted_resized_image.jpg\", \"decrypted_resized_image.jpg\")\n"
   ]
  },
  {
   "cell_type": "code",
   "execution_count": 11,
   "id": "6b0c1ebe-8920-4d53-9137-247fc5b0d782",
   "metadata": {},
   "outputs": [],
   "source": []
  },
  {
   "cell_type": "code",
   "execution_count": null,
   "id": "9e752b71-584a-4dda-a823-4f6b26429252",
   "metadata": {},
   "outputs": [],
   "source": []
  }
 ],
 "metadata": {
  "kernelspec": {
   "display_name": "Python [conda env:base] *",
   "language": "python",
   "name": "conda-base-py"
  },
  "language_info": {
   "codemirror_mode": {
    "name": "ipython",
    "version": 3
   },
   "file_extension": ".py",
   "mimetype": "text/x-python",
   "name": "python",
   "nbconvert_exporter": "python",
   "pygments_lexer": "ipython3",
   "version": "3.12.7"
  }
 },
 "nbformat": 4,
 "nbformat_minor": 5
}
